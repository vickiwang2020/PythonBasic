{
 "cells": [
  {
   "cell_type": "code",
   "execution_count": 3,
   "metadata": {},
   "outputs": [
    {
     "name": "stdout",
     "output_type": "stream",
     "text": [
      "b is greater than a\n"
     ]
    }
   ],
   "source": [
    "#if\n",
    "a=13\n",
    "b=17\n",
    "if a>b:\n",
    "    print(\"a is greater than b\")\n",
    "if b>a:\n",
    "    print(\"b is greater than a\")"
   ]
  },
  {
   "cell_type": "code",
   "execution_count": 4,
   "metadata": {},
   "outputs": [
    {
     "name": "stdout",
     "output_type": "stream",
     "text": [
      "a is not greater than b\n"
     ]
    }
   ],
   "source": [
    "if a>b:\n",
    "    print(\"a is greater than b\")\n",
    "else :\n",
    "    print(\"a is not greater than b\")"
   ]
  },
  {
   "cell_type": "code",
   "execution_count": 5,
   "metadata": {},
   "outputs": [
    {
     "name": "stdout",
     "output_type": "stream",
     "text": [
      "c is the greatest\n"
     ]
    }
   ],
   "source": [
    "#elif\n",
    "a=17\n",
    "b=3\n",
    "c=61\n",
    "if (a>b & a>c):\n",
    "    print('a is the greatest')\n",
    "elif (b>a & b>c):\n",
    "    print('b is the greatest')\n",
    "else:\n",
    "    print('c is the greatest')"
   ]
  },
  {
   "cell_type": "code",
   "execution_count": 6,
   "metadata": {},
   "outputs": [
    {
     "name": "stdout",
     "output_type": "stream",
     "text": [
      "0 is present in the tuple\n"
     ]
    }
   ],
   "source": [
    "tup1=(-1,0,1,10,11,101,100)\n",
    "if 0 in tup1:\n",
    "    print(\"0 is present in the tuple\")"
   ]
  },
  {
   "cell_type": "code",
   "execution_count": 9,
   "metadata": {},
   "outputs": [
    {
     "name": "stdout",
     "output_type": "stream",
     "text": [
      "10 is not present in the tuple\n"
     ]
    }
   ],
   "source": [
    "tup2=(-1,11,1,101)\n",
    "if 10 in tup2:\n",
    "    print (\"10 is present in the tuple\")\n",
    "else:\n",
    "    print (\"10 is not present in the tuple\")"
   ]
  },
  {
   "cell_type": "code",
   "execution_count": 15,
   "metadata": {},
   "outputs": [
    {
     "data": {
      "text/plain": [
       "[-1, 100, 1, 3, 5, 7, 11]"
      ]
     },
     "execution_count": 15,
     "metadata": {},
     "output_type": "execute_result"
    }
   ],
   "source": [
    "#if with list\n",
    "l1 = [-1,0,1,3,5,7,11]\n",
    "if l1[1]==0:\n",
    "    l1[1]=l1[1]+100\n",
    "l1"
   ]
  },
  {
   "cell_type": "code",
   "execution_count": 16,
   "metadata": {},
   "outputs": [
    {
     "data": {
      "text/plain": [
       "[0, 1, 2, 1, 4]"
      ]
     },
     "execution_count": 16,
     "metadata": {},
     "output_type": "execute_result"
    }
   ],
   "source": [
    "l1 =[0,1,2,3,4,]\n",
    "if l1[3]==10:\n",
    "    l1[3]=l1[3]+10\n",
    "else:\n",
    "    l1[3]=l1[3]-2\n"
   ]
  },
  {
   "cell_type": "code",
   "execution_count": 17,
   "metadata": {},
   "outputs": [
    {
     "data": {
      "text/plain": [
       "{'Sales': 10000, 'COG': 201.5, 'Tax': 250}"
      ]
     },
     "execution_count": 17,
     "metadata": {},
     "output_type": "execute_result"
    }
   ],
   "source": [
    "#if with dictionary\n",
    "d1={\"Sales\":10000,\"COG\":200,\"Tax\":250}\n",
    "if d1[\"COG\"]==200:\n",
    "    d1[\"COG\"]=d1[\"COG\"]+1.5\n",
    "d1\n"
   ]
  },
  {
   "cell_type": "code",
   "execution_count": null,
   "metadata": {},
   "outputs": [],
   "source": [
    "#looping statement"
   ]
  }
 ],
 "metadata": {
  "kernelspec": {
   "display_name": "Python 3",
   "language": "python",
   "name": "python3"
  },
  "language_info": {
   "codemirror_mode": {
    "name": "ipython",
    "version": 3
   },
   "file_extension": ".py",
   "mimetype": "text/x-python",
   "name": "python",
   "nbconvert_exporter": "python",
   "pygments_lexer": "ipython3",
   "version": "3.8.5"
  }
 },
 "nbformat": 4,
 "nbformat_minor": 4
}
